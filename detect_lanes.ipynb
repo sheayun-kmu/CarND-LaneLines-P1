{
 "cells": [
  {
   "cell_type": "code",
   "execution_count": 1,
   "metadata": {},
   "outputs": [],
   "source": [
    "# Import necessary packages\n",
    "import matplotlib.pyplot as plt\n",
    "import matplotlib.image as mpimg\n",
    "import numpy as np\n",
    "import cv2\n",
    "%matplotlib inline"
   ]
  },
  {
   "cell_type": "code",
   "execution_count": 2,
   "metadata": {},
   "outputs": [],
   "source": [
    "def grayscale(img):\n",
    "    # Convert mpimg color space into 1-channel grayscale\n",
    "    return cv2.cvtColor(img, cv2.COLOR_RGB2GRAY)"
   ]
  },
  {
   "cell_type": "code",
   "execution_count": 3,
   "metadata": {},
   "outputs": [],
   "source": [
    "def gaussian_blur(img, kernel_size=5):\n",
    "    # Apply Gaussian blur with default kernel size\n",
    "    return cv2.GaussianBlur(img, (kernel_size, kernel_size), 0)"
   ]
  },
  {
   "cell_type": "code",
   "execution_count": 4,
   "metadata": {},
   "outputs": [],
   "source": [
    "def canny(img, low_threshold, high_threshold):\n",
    "    # Canny edge detection\n",
    "    return cv2.Canny(img, low_threshold, high_threshold)"
   ]
  },
  {
   "cell_type": "code",
   "execution_count": 5,
   "metadata": {},
   "outputs": [],
   "source": [
    "def polygon_roi(img):\n",
    "    if len(img.shape) == 3:\n",
    "        r, c, _ = img.shape\n",
    "        color_mask = (255, 255, 255)\n",
    "    else:\n",
    "        r, c = img.shape\n",
    "        color_mask = 255\n",
    "    offset_lb = c // 10\n",
    "    offset_rb = c // 20\n",
    "    offset_lt = c // 20\n",
    "    offset_rt = c // 20\n",
    "    offset_bottom = 0\n",
    "    offset_top = r // 11\n",
    "    vertices = np.array([[\n",
    "        (0 + offset_lb, r + offset_bottom),           # bottom left\n",
    "        (c // 2 - offset_lt, r // 2 + offset_top),    # top left\n",
    "        (c // 2 + offset_rt, r // 2 + offset_top),    # top right\n",
    "        (c - offset_rb, r + offset_bottom),           # bottom right\n",
    "    ]], dtype=np.int32)\n",
    "    mask = np.zeros_like(img)\n",
    "    cv2.fillPoly(mask, vertices, color_mask)\n",
    "    masked = cv2.bitwise_and(img, mask)\n",
    "    return masked"
   ]
  },
  {
   "cell_type": "code",
   "execution_count": 6,
   "metadata": {},
   "outputs": [],
   "source": [
    "def hough_lines(img):\n",
    "    # Distance resolution of the Hough grid (in pixels)\n",
    "    rho = 2\n",
    "    # Angular resolution of the Hough grid (in radians)\n",
    "    theta = np.pi / 180\n",
    "    # Min. # of votes required for a line\n",
    "    threshold = 5\n",
    "    # Min. # of pixels required for a line\n",
    "    min_line_len = 20\n",
    "    # Maximum gap between connectable line segments\n",
    "    max_line_gap = 40\n",
    "    lines = cv2.HoughLinesP(img, rho, theta, threshold, np.array([]),\n",
    "                            minLineLength=min_line_len, maxLineGap=max_line_gap)\n",
    "    return lines"
   ]
  },
  {
   "cell_type": "code",
   "execution_count": 7,
   "metadata": {},
   "outputs": [],
   "source": [
    "def detect_lines(img):\n",
    "    # Obtain grayscale image\n",
    "    gray = grayscale(img)\n",
    "    # Apply Gaussian blur filter\n",
    "    blurred = gaussian_blur(gray, 3)\n",
    "    # Detect Canny edges\n",
    "    edges = canny(blurred, 50, 200)\n",
    "    # Mask region of interest\n",
    "    roi = polygon_roi(edges)\n",
    "    # Detect Hough lines\n",
    "    lines = hough_lines(roi)\n",
    "    return lines"
   ]
  },
  {
   "cell_type": "code",
   "execution_count": 8,
   "metadata": {},
   "outputs": [],
   "source": [
    "def select_lines(lines, min_angle, max_angle, min_x, max_x):\n",
    "    # Calculate tangent for each angle\n",
    "    min_gradient = np.tan(np.radians(min_angle))\n",
    "    max_gradient = np.tan(np.radians(max_angle))\n",
    "    selected = []\n",
    "    for line in lines:\n",
    "        for x1, y1, x2, y2 in line:\n",
    "            # First we check the position of the line\n",
    "            if min(x1, x2) < min_x or max(x1, x2) > max_x:\n",
    "                continue\n",
    "            # Vertical lines are not likely to be lane lines\n",
    "            if x1 == x2:\n",
    "                continue\n",
    "            # We subtract y2 from y1 since y-axis is upside down\n",
    "            m = (y1 - y2) / (x2 - x1)\n",
    "            # For those selected lines, keep the following:\n",
    "            # (1) gradient, (2) y-intercept, (3) segnemtn length,\n",
    "            if min_gradient <= m <= max_gradient:\n",
    "                selected.append(line)\n",
    "    return selected"
   ]
  },
  {
   "cell_type": "code",
   "execution_count": 9,
   "metadata": {},
   "outputs": [],
   "source": [
    "def aggregate_lines(lines):\n",
    "    gradients, intercepts, weights = [], [], []\n",
    "    min_y, max_y = 0, 560\n",
    "    for line in lines:\n",
    "        for x1, y1, x2, y2 in line:\n",
    "            if x1 == x2:\n",
    "                continue\n",
    "            # Keep min & max y values\n",
    "            min_y = min(y1, y2) if min_y == 0 or min(y1, y2) < min_y else min_y\n",
    "            max_y = max(y1, y2) if max(y1, y2) > max_y else max_y\n",
    "            m = (y2 - y1) / (x2 - x1)\n",
    "            b = y1 - m * x1\n",
    "            # Use each line's length as its weight in averaging\n",
    "            l = np.sqrt((x2 - x1) ** 2 + (y2 - y1) ** 2)\n",
    "            gradients.append(m)\n",
    "            intercepts.append(b)\n",
    "            weights.append(l)\n",
    "    # Now we compute weighted (based on line length) average of the\n",
    "    # gradient and y-intercept\n",
    "    g, i, w = np.array(gradients), np.array(intercepts), np.array(weights)\n",
    "    avg_m = np.average(g, weights=w)\n",
    "    avg_b = np.average(i, weights=w)\n",
    "    # Calculate low & high endpoints\n",
    "    x1 = int((max_y - avg_b) / avg_m)\n",
    "    x2 = int((min_y - avg_b) / avg_m)\n",
    "    return x1, max_y, x2, min_y"
   ]
  },
  {
   "cell_type": "code",
   "execution_count": 10,
   "metadata": {},
   "outputs": [],
   "source": [
    "def draw_lines(img, lines, c=(255, 0, 0), t=2):\n",
    "    for line in lines:\n",
    "        for x1, y1, x2, y2 in line:\n",
    "            cv2.line(img, (x1, y1), (x2, y2), c, t)\n",
    "    return img"
   ]
  },
  {
   "cell_type": "code",
   "execution_count": 11,
   "metadata": {},
   "outputs": [],
   "source": [
    "def weighted_img(img, initial_img, α=0.8, β=1., γ=0.):\n",
    "    return cv2.addWeighted(initial_img, α, img, β, γ)"
   ]
  },
  {
   "cell_type": "code",
   "execution_count": 12,
   "metadata": {},
   "outputs": [],
   "source": [
    "def process_image(img):\n",
    "    r = img.shape[0]\n",
    "    c = img.shape[1]\n",
    "    lines = detect_lines(img)\n",
    "    # print(\"# of found lines: \", len(lines))\n",
    "    left_candidates = select_lines(lines, 30, 45, 0, c // 2)\n",
    "    # print(\"# of left lane line candidates: \", len(left_candidates))\n",
    "    right_candidates = select_lines(lines, -45, -30, c // 2, c)\n",
    "    # print(\"# of right lane line candidates: \", len(right_candidates))\n",
    "\n",
    "    line_img = np.zeros_like(img)\n",
    "    # line_img = draw_lines(line_img, left_candidates, c=(0, 255, 0))\n",
    "    # line_img = draw_lines(line_img, right_candidates, c=(255, 255, 0))\n",
    "    if len(left_candidates) > 0:\n",
    "        left_lane_line = aggregate_lines(left_candidates)\n",
    "        line_img = draw_lines(line_img, [(left_lane_line, )], c=(255, 0, 0), t=10)\n",
    "    if len(right_candidates) > 0:\n",
    "        right_lane_line = aggregate_lines(right_candidates)\n",
    "        line_img = draw_lines(line_img, [(right_lane_line, )], c=(0, 0, 255), t=10)\n",
    "    annotated = weighted_img(line_img, img)\n",
    "    return annotated"
   ]
  },
  {
   "cell_type": "code",
   "execution_count": 13,
   "metadata": {},
   "outputs": [],
   "source": [
    "import os\n",
    "\n",
    "filenames = os.listdir(\"test_images\")\n",
    "for filename in filenames:\n",
    "    pathname = os.path.join(os.getcwd(), \"test_images\", filename)\n",
    "    # Read image file\n",
    "    image = mpimg.imread(pathname)\n",
    "    lane_line_detection = process_image(image)\n",
    "    cv2_image = cv2.cvtColor(lane_line_detection, cv2.COLOR_RGB2BGR)\n",
    "    output_pathname = os.path.join(os.getcwd(), \"test_images_output\", filename)\n",
    "    cv2.imwrite(output_pathname, cv2_image)"
   ]
  },
  {
   "cell_type": "code",
   "execution_count": 14,
   "metadata": {},
   "outputs": [
    {
     "name": "stdout",
     "output_type": "stream",
     "text": [
      "Imageio: 'ffmpeg.linux64' was not found on your computer; downloading it now.\n",
      "Try 1. Download from https://github.com/imageio/imageio-binaries/raw/master/ffmpeg/ffmpeg.linux64 (27.2 MB)\n"
     ]
    },
    {
     "name": "stdout",
     "output_type": "stream",
     "text": [
      "Downloading: 8192/28549024 bytes (0.024576/28549024 bytes (0.1%90112/28549024 bytes (0.3%139264/28549024 bytes (0.5188416/28549024 bytes (0.7245760/28549024 bytes (0.9303104/28549024 bytes (1.1360448/28549024 bytes (1.3376832/28549024 bytes (1.3450560/28549024 bytes (1.6499712/28549024 bytes (1.8548864/28549024 bytes (1.9598016/28549024 bytes (2.1647168/28549024 bytes (2.3696320/28549024 bytes (2.4761856/28549024 bytes (2.7827392/28549024 bytes (2.9892928/28549024 bytes (3.1958464/28549024 bytes (3.41024000/28549024 bytes (3.6%1089536/28549024 bytes (3.8%1155072/28549024 bytes (4.0%1187840/28549024 bytes (4.2%1269760/28549024 bytes (4.4%1327104/28549024 bytes (4.6%1368064/28549024 bytes (4.8%1417216/28549024 bytes (5.0%1466368/28549024 bytes (5.1%1499136/28549024 bytes (5.3%1564672/28549024 bytes (5.5%1597440/28549024 bytes (5.6%1630208/28549024 bytes (5.7%1679360/28549024 bytes (5.9%1728512/28549024 bytes (6.1%1777664/28549024 bytes (6.2%1826816/28549024 bytes (6.4%1875968/28549024 bytes (6.6%1908736/28549024 bytes (6.7%1957888/28549024 bytes (6.9%2007040/28549024 bytes (7.0%2056192/28549024 bytes (7.2%2105344/28549024 bytes (7.4%2154496/28549024 bytes (7.5%2203648/28549024 bytes (7.7%2252800/28549024 bytes (7.9%2285568/28549024 bytes (8.0%2351104/28549024 bytes (8.2%2383872/28549024 bytes (8.4%2416640/28549024 bytes (8.5%2465792/28549024 bytes (8.6%2498560/28549024 bytes (8.8%2514944/28549024 bytes (8.8%2547712/28549024 bytes (8.9%2580480/28549024 bytes (9.0%2613248/28549024 bytes (9.2%2629632/28549024 bytes (9.2%2646016/28549024 bytes (9.3%2662400/28549024 bytes (9.3%2678784/28549024 bytes (9.4%2695168/28549024 bytes (9.4%2711552/28549024 bytes (9.5%2727936/28549024 bytes (9.6%2744320/28549024 bytes (9.6%2760704/28549024 bytes (9.7%2793472/28549024 bytes (9.8%2826240/28549024 bytes (9.9%2859008/28549024 bytes (10.02891776/28549024 bytes (10.12924544/28549024 bytes (10.22957312/28549024 bytes (10.42990080/28549024 bytes (10.53039232/28549024 bytes (10.63072000/28549024 bytes (10.83121152/28549024 bytes (10.93153920/28549024 bytes (11.03186688/28549024 bytes (11.23219456/28549024 bytes (11.33252224/28549024 bytes (11.43284992/28549024 bytes (11.53334144/28549024 bytes (11.73383296/28549024 bytes (11.93432448/28549024 bytes (12.03465216/28549024 bytes (12.13481600/28549024 bytes (12.23530752/28549024 bytes (12.43547136/28549024 bytes (12.43579904/28549024 bytes (12.53612672/28549024 bytes (12.73645440/28549024 bytes (12.83678208/28549024 bytes (12.93710976/28549024 bytes (13.03743744/28549024 bytes (13.13776512/28549024 bytes (13.23825664/28549024 bytes (13.43874816/28549024 bytes (13.63907584/28549024 bytes (13.73940352/28549024 bytes (13.83973120/28549024 bytes (13.94005888/28549024 bytes (14.04022272/28549024 bytes (14.14055040/28549024 bytes (14.24087808/28549024 bytes (14.34120576/28549024 bytes (14.44136960/28549024 bytes (14.54169728/28549024 bytes (14.64202496/28549024 bytes (14.74235264/28549024 bytes (14.84251648/28549024 bytes (14.94268032/28549024 bytes (14.94300800/28549024 bytes (15.14317184/28549024 bytes (15.14333568/28549024 bytes (15.24349952/28549024 bytes (15.24382720/28549024 bytes (15.44415488/28549024 bytes (15.54448256/28549024 bytes (15.64481024/28549024 bytes (15.74513792/28549024 bytes (15.84546560/28549024 bytes (15.94595712/28549024 bytes (16.14628480/28549024 bytes (16.24677632/28549024 bytes (16.44726784/28549024 bytes (16.64775936/28549024 bytes (16.74841472/28549024 bytes (17.04874240/28549024 bytes (17.14890624/28549024 bytes (17.14939776/28549024 bytes (17.34972544/28549024 bytes (17.44988928/28549024 bytes (17.55021696/28549024 bytes (17.65054464/28549024 bytes (17.75087232/28549024 bytes (17.85136384/28549024 bytes (18.05169152/28549024 bytes (18.15201920/28549024 bytes (18.25234688/28549024 bytes (18.35267456/28549024 bytes (18.55283840/28549024 bytes (18.55316608/28549024 bytes (18.65349376/28549024 bytes (18.75382144/28549024 bytes (18.95414912/28549024 bytes (19.05447680/28549024 bytes (19.15480448/28549024 bytes (19.25529600/28549024 bytes (19.45545984/28549024 bytes (19.45586944/28549024 bytes (19.65611520/28549024 bytes (19.75644288/28549024 bytes (19.85677056/28549024 bytes (19.95693440/28549024 bytes (19.95726208/28549024 bytes (20.15758976/28549024 bytes (20.25791744/28549024 bytes (20.35824512/28549024 bytes (20.45857280/28549024 bytes (20.55890048/28549024 bytes (20.65922816/28549024 bytes (20.75971968/28549024 bytes (20.96021120/28549024 bytes (21.16070272/28549024 bytes (21.36119424/28549024 bytes (21.46168576/28549024 bytes (21.66217728/28549024 bytes (21.86266880/28549024 bytes (22.06316032/28549024 bytes (22.16365184/28549024 bytes (22.36414336/28549024 bytes (22.56463488/28549024 bytes (22.66512640/28549024 bytes (22.86578176/28549024 bytes (23.06627328/28549024 bytes (23.26692864/28549024 bytes (23.46742016/28549024 bytes (23.66791168/28549024 bytes (23.86840320/28549024 bytes (24.06889472/28549024 bytes (24.16922240/28549024 bytes (24.26987776/28549024 bytes (24.57020544/28549024 bytes (24.67053312/28549024 bytes (24.77102464/28549024 bytes (24.97135232/28549024 bytes (25.07168000/28549024 bytes (25.17200768/28549024 bytes (25.27233536/28549024 bytes (25.37282688/28549024 bytes (25.57331840/28549024 bytes (25.77380992/28549024 bytes (25.97430144/28549024 bytes (26.07479296/28549024 bytes (26.27528448/28549024 bytes (26.47577600/28549024 bytes (26.57626752/28549024 bytes (26.77692288/28549024 bytes (26.97725056/28549024 bytes (27.17806976/28549024 bytes (27.37856128/28549024 bytes (27.57905280/28549024 bytes (27.77954432/28549024 bytes (27.98003584/28549024 bytes (28.08052736/28549024 bytes (28.28118272/28549024 bytes (28.48167424/28549024 bytes (28.68232960/28549024 bytes (28.88282112/28549024 bytes (29.08331264/28549024 bytes (29.28380416/28549024 bytes (29.48429568/28549024 bytes (29.58478720/28549024 bytes (29.78527872/28549024 bytes (29.98593408/28549024 bytes (30.18642560/28549024 bytes (30.38708096/28549024 bytes (30.58773632/28549024 bytes (30.78839168/28549024 bytes (31.08904704/28549024 bytes (31.28953856/28549024 bytes (31.49035776/28549024 bytes (31.79084928/28549024 bytes (31.89150464/28549024 bytes (32.19216000/28549024 bytes (32.39281536/28549024 bytes (32.59330688/28549024 bytes (32.79396224/28549024 bytes (32.99445376/28549024 bytes (33.19494528/28549024 bytes (33.39543680/28549024 bytes (33.49576448/28549024 bytes (33.59609216/28549024 bytes (33.79658368/28549024 bytes (33.89707520/28549024 bytes (34.09756672/28549024 bytes (34.29822208/28549024 bytes (34.49854976/28549024 bytes (34.59887744/28549024 bytes (34.69936896/28549024 bytes (34.89969664/28549024 bytes (34.910018816/28549024 bytes (35.1%10051584/28549024 bytes (35.2%10084352/28549024 bytes (35.3%10117120/28549024 bytes (35.4%10149888/28549024 bytes (35.6%10166272/28549024 bytes (35.6%10215424/28549024 bytes (35.8%10248192/28549024 bytes (35.9%10264576/28549024 bytes (36.0%10297344/28549024 bytes (36.1%10330112/28549024 bytes (36.2%10346496/28549024 bytes (36.2%10379264/28549024 bytes (36.4%10412032/28549024 bytes (36.5%10444800/28549024 bytes (36.6%10477568/28549024 bytes (36.7%10510336/28549024 bytes (36.8%10543104/28549024 bytes (36.9%10575872/28549024 bytes (37.0%10625024/28549024 bytes (37.2%10641408/28549024 bytes (37.3%10690560/28549024 bytes (37.4%10723328/28549024 bytes (37.6%10739712/28549024 bytes (37.6%10772480/28549024 bytes (37.7%10805248/28549024 bytes (37.8%10838016/28549024 bytes (38.0%10870784/28549024 bytes (38.1%10903552/28549024 bytes (38.2%10936320/28549024 bytes (38.3%10969088/28549024 bytes (38.4%11018240/28549024 bytes (38.6%11051008/28549024 bytes (38.7%11100160/28549024 bytes (38.9%11149312/28549024 bytes (39.1%11198464/28549024 bytes (39.2%11247616/28549024 bytes (39.4%11313152/28549024 bytes (39.6%11378688/28549024 bytes (39.9%11444224/28549024 bytes (40.1%11493376/28549024 bytes (40.3%11542528/28549024 bytes (40.4%11591680/28549024 bytes (40.6%11640832/28549024 bytes (40.8%11689984/28549024 bytes (40.9%11739136/28549024 bytes (41.1%11788288/28549024 bytes (41.3%11837440/28549024 bytes (41.5%11902976/28549024 bytes (41.7%11968512/28549024 bytes (41.9%12034048/28549024 bytes (42.2%)"
     ]
    },
    {
     "name": "stdout",
     "output_type": "stream",
     "text": [
      "\b12099584/28549024 bytes (42.4%12132352/28549024 bytes (42.5%12181504/28549024 bytes (42.7%12230656/28549024 bytes (42.8%12279808/28549024 bytes (43.0%12328960/28549024 bytes (43.2%12378112/28549024 bytes (43.4%12410880/28549024 bytes (43.5%12460032/28549024 bytes (43.6%12509184/28549024 bytes (43.8%12558336/28549024 bytes (44.0%12607488/28549024 bytes (44.2%12656640/28549024 bytes (44.3%12705792/28549024 bytes (44.5%12754944/28549024 bytes (44.7%12787712/28549024 bytes (44.8%12836864/28549024 bytes (45.0%12886016/28549024 bytes (45.1%12935168/28549024 bytes (45.3%12984320/28549024 bytes (45.5%13033472/28549024 bytes (45.7%13082624/28549024 bytes (45.8%13131776/28549024 bytes (46.0%13180928/28549024 bytes (46.2%13230080/28549024 bytes (46.3%13295616/28549024 bytes (46.6%13361152/28549024 bytes (46.8%13426688/28549024 bytes (47.0%13475840/28549024 bytes (47.2%13557760/28549024 bytes (47.5%13606912/28549024 bytes (47.7%13656064/28549024 bytes (47.8%13721600/28549024 bytes (48.1%13770752/28549024 bytes (48.2%13819904/28549024 bytes (48.4%13885440/28549024 bytes (48.6%13934592/28549024 bytes (48.8%13975552/28549024 bytes (49.0%14000128/28549024 bytes (49.0%14032896/28549024 bytes (49.2%14065664/28549024 bytes (49.3%14098432/28549024 bytes (49.4%14147584/28549024 bytes (49.6%14196736/28549024 bytes (49.7%14245888/28549024 bytes (49.9%14311424/28549024 bytes (50.1%14344192/28549024 bytes (50.2%14393344/28549024 bytes (50.4%14442496/28549024 bytes (50.6%14475264/28549024 bytes (50.7%14508032/28549024 bytes (50.8%14540800/28549024 bytes (50.9%14573568/28549024 bytes (51.0%14606336/28549024 bytes (51.2%14639104/28549024 bytes (51.3%14688256/28549024 bytes (51.4%14737408/28549024 bytes (51.6%14786560/28549024 bytes (51.8%14835712/28549024 bytes (52.0%14884864/28549024 bytes (52.1%14934016/28549024 bytes (52.3%14983168/28549024 bytes (52.5%15048704/28549024 bytes (52.7%15065088/28549024 bytes (52.8%15147008/28549024 bytes (53.1%15196160/28549024 bytes (53.2%15245312/28549024 bytes (53.4%15278080/28549024 bytes (53.5%15310848/28549024 bytes (53.6%15343616/28549024 bytes (53.7%15376384/28549024 bytes (53.9%15409152/28549024 bytes (54.0%15425536/28549024 bytes (54.0%15458304/28549024 bytes (54.1%15491072/28549024 bytes (54.3%15523840/28549024 bytes (54.4%15556608/28549024 bytes (54.5%15589376/28549024 bytes (54.6%15622144/28549024 bytes (54.7%15671296/28549024 bytes (54.9%15704064/28549024 bytes (55.0%15720448/28549024 bytes (55.1%15769600/28549024 bytes (55.2%15802368/28549024 bytes (55.4%15835136/28549024 bytes (55.5%15867904/28549024 bytes (55.6%15900672/28549024 bytes (55.7%15949824/28549024 bytes (55.9%15998976/28549024 bytes (56.0%16048128/28549024 bytes (56.2%16097280/28549024 bytes (56.4%16146432/28549024 bytes (56.6%16195584/28549024 bytes (56.7%16244736/28549024 bytes (56.9%16293888/28549024 bytes (57.1%16359424/28549024 bytes (57.3%16408576/28549024 bytes (57.5%16457728/28549024 bytes (57.6%16506880/28549024 bytes (57.8%16556032/28549024 bytes (58.0%16605184/28549024 bytes (58.2%16654336/28549024 bytes (58.3%16703488/28549024 bytes (58.5%16752640/28549024 bytes (58.7%16818176/28549024 bytes (58.9%16867328/28549024 bytes (59.1%16932864/28549024 bytes (59.3%16982016/28549024 bytes (59.5%17014784/28549024 bytes (59.6%17080320/28549024 bytes (59.8%17113088/28549024 bytes (59.9%17145856/28549024 bytes (60.1%17195008/28549024 bytes (60.2%17244160/28549024 bytes (60.4%17293312/28549024 bytes (60.6%17342464/28549024 bytes (60.7%17391616/28549024 bytes (60.9%17440768/28549024 bytes (61.1%17489920/28549024 bytes (61.3%17555456/28549024 bytes (61.5%17612800/28549024 bytes (61.7%17670144/28549024 bytes (61.9%17735680/28549024 bytes (62.1%17801216/28549024 bytes (62.4%17850368/28549024 bytes (62.5%17899520/28549024 bytes (62.7%17948672/28549024 bytes (62.9%17997824/28549024 bytes (63.0%18063360/28549024 bytes (63.3%18128896/28549024 bytes (63.5%18194432/28549024 bytes (63.7%18227200/28549024 bytes (63.8%18276352/28549024 bytes (64.0%18325504/28549024 bytes (64.2%18374656/28549024 bytes (64.4%18423808/28549024 bytes (64.5%18472960/28549024 bytes (64.7%18522112/28549024 bytes (64.9%18571264/28549024 bytes (65.1%18636800/28549024 bytes (65.3%18718720/28549024 bytes (65.6%18767872/28549024 bytes (65.7%18800640/28549024 bytes (65.9%18866176/28549024 bytes (66.1%18898944/28549024 bytes (66.2%18948096/28549024 bytes (66.4%18980864/28549024 bytes (66.5%19013632/28549024 bytes (66.6%19046400/28549024 bytes (66.7%19079168/28549024 bytes (66.8%19128320/28549024 bytes (67.0%19161088/28549024 bytes (67.1%19193856/28549024 bytes (67.2%19226624/28549024 bytes (67.3%19275776/28549024 bytes (67.5%19308544/28549024 bytes (67.6%19341312/28549024 bytes (67.7%19390464/28549024 bytes (67.9%19415040/28549024 bytes (68.0%19456000/28549024 bytes (68.1%19488768/28549024 bytes (68.3%19521536/28549024 bytes (68.4%19554304/28549024 bytes (68.5%19587072/28549024 bytes (68.6%19619840/28549024 bytes (68.7%19668992/28549024 bytes (68.9%19718144/28549024 bytes (69.1%19783680/28549024 bytes (69.3%19832832/28549024 bytes (69.5%19898368/28549024 bytes (69.7%19947520/28549024 bytes (69.9%19996672/28549024 bytes (70.0%20062208/28549024 bytes (70.3%20127744/28549024 bytes (70.5%20176896/28549024 bytes (70.7%20226048/28549024 bytes (70.8%20275200/28549024 bytes (71.0%20324352/28549024 bytes (71.2%20373504/28549024 bytes (71.4%20439040/28549024 bytes (71.6%20471808/28549024 bytes (71.7%20488192/28549024 bytes (71.8%20537344/28549024 bytes (71.9%20570112/28549024 bytes (72.1%20602880/28549024 bytes (72.2%20635648/28549024 bytes (72.3%20668416/28549024 bytes (72.4%20717568/28549024 bytes (72.6%20750336/28549024 bytes (72.7%20799488/28549024 bytes (72.9%20832256/28549024 bytes (73.0%20865024/28549024 bytes (73.1%20897792/28549024 bytes (73.2%20930560/28549024 bytes (73.3%20963328/28549024 bytes (73.4%21012480/28549024 bytes (73.6%21045248/28549024 bytes (73.7%21110784/28549024 bytes (73.9%21143552/28549024 bytes (74.1%21176320/28549024 bytes (74.2%21209088/28549024 bytes (74.3%21250048/28549024 bytes (74.4%21291008/28549024 bytes (74.6%21340160/28549024 bytes (74.7%21389312/28549024 bytes (74.9%21438464/28549024 bytes (75.1%21487616/28549024 bytes (75.3%21536768/28549024 bytes (75.4%21585920/28549024 bytes (75.6%21643264/28549024 bytes (75.8%21700608/28549024 bytes (76.0%21766144/28549024 bytes (76.2%21815296/28549024 bytes (76.4%21864448/28549024 bytes (76.6%21913600/28549024 bytes (76.8%21979136/28549024 bytes (77.0%22044672/28549024 bytes (77.2%22110208/28549024 bytes (77.4%22175744/28549024 bytes (77.7%22241280/28549024 bytes (77.9%22306816/28549024 bytes (78.1%22372352/28549024 bytes (78.4%22437888/28549024 bytes (78.6%22503424/28549024 bytes (78.8%22585344/28549024 bytes (79.1%22618112/28549024 bytes (79.2%22716416/28549024 bytes (79.6%22781952/28549024 bytes (79.8%22847488/28549024 bytes (80.0%22913024/28549024 bytes (80.3%22978560/28549024 bytes (80.5%23060480/28549024 bytes (80.8%23093248/28549024 bytes (80.9%23126016/28549024 bytes (81.0%23175168/28549024 bytes (81.2%23224320/28549024 bytes (81.3%23257088/28549024 bytes (81.5%23306240/28549024 bytes (81.6%23339008/28549024 bytes (81.8%23388160/28549024 bytes (81.9%23437312/28549024 bytes (82.1%23470080/28549024 bytes (82.2%23519232/28549024 bytes (82.4%23568384/28549024 bytes (82.6%23617536/28549024 bytes (82.7%23666688/28549024 bytes (82.9%23715840/28549024 bytes (83.1%23764992/28549024 bytes (83.2%23781376/28549024 bytes (83.3%23846912/28549024 bytes (83.5%23896064/28549024 bytes (83.7%23945216/28549024 bytes (83.9%23994368/28549024 bytes (84.0%24043520/28549024 bytes (84.2%24092672/28549024 bytes (84.4%24125440/28549024 bytes (84.5%24174592/28549024 bytes (84.7%24207360/28549024 bytes (84.8%24223744/28549024 bytes (84.8%24256512/28549024 bytes (85.0%24289280/28549024 bytes (85.1%24322048/28549024 bytes (85.2%24354816/28549024 bytes (85.3%24387584/28549024 bytes (85.4%24420352/28549024 bytes (85.5%24453120/28549024 bytes (85.7%24485888/28549024 bytes (85.8%24518656/28549024 bytes (85.9%24551424/28549024 bytes (86.0%24584192/28549024 bytes (86.1%24633344/28549024 bytes (86.3%24666112/28549024 bytes (86.4%24715264/28549024 bytes (86.6%24748032/28549024 bytes (86.7%)"
     ]
    },
    {
     "name": "stdout",
     "output_type": "stream",
     "text": [
      "\b24764416/28549024 bytes (86.7%24797184/28549024 bytes (86.9%24829952/28549024 bytes (87.0%24846336/28549024 bytes (87.0%24879104/28549024 bytes (87.1%24911872/28549024 bytes (87.3%24944640/28549024 bytes (87.4%24977408/28549024 bytes (87.5%25010176/28549024 bytes (87.6%25042944/28549024 bytes (87.7%25075712/28549024 bytes (87.8%25108480/28549024 bytes (87.9%25141248/28549024 bytes (88.1%25190400/28549024 bytes (88.2%25239552/28549024 bytes (88.4%25272320/28549024 bytes (88.5%25337856/28549024 bytes (88.8%25387008/28549024 bytes (88.9%25436160/28549024 bytes (89.1%25485312/28549024 bytes (89.3%25534464/28549024 bytes (89.4%25583616/28549024 bytes (89.6%25632768/28549024 bytes (89.8%25681920/28549024 bytes (90.0%25739264/28549024 bytes (90.2%25796608/28549024 bytes (90.4%25845760/28549024 bytes (90.5%25927680/28549024 bytes (90.8%25976832/28549024 bytes (91.0%26009600/28549024 bytes (91.1%26058752/28549024 bytes (91.3%26091520/28549024 bytes (91.4%26140672/28549024 bytes (91.6%26189824/28549024 bytes (91.7%26238976/28549024 bytes (91.9%26271744/28549024 bytes (92.0%26320896/28549024 bytes (92.2%26353664/28549024 bytes (92.3%26386432/28549024 bytes (92.4%26419200/28549024 bytes (92.5%26451968/28549024 bytes (92.7%26484736/28549024 bytes (92.8%26501120/28549024 bytes (92.8%26533888/28549024 bytes (92.9%26550272/28549024 bytes (93.0%26583040/28549024 bytes (93.1%26615808/28549024 bytes (93.2%26648576/28549024 bytes (93.3%26681344/28549024 bytes (93.5%26714112/28549024 bytes (93.6%26746880/28549024 bytes (93.7%26779648/28549024 bytes (93.8%26812416/28549024 bytes (93.9%26845184/28549024 bytes (94.0%26877952/28549024 bytes (94.1%26910720/28549024 bytes (94.3%26943488/28549024 bytes (94.4%26976256/28549024 bytes (94.5%27025408/28549024 bytes (94.7%27074560/28549024 bytes (94.8%27123712/28549024 bytes (95.0%27172864/28549024 bytes (95.2%27222016/28549024 bytes (95.4%27271168/28549024 bytes (95.5%27336704/28549024 bytes (95.8%27402240/28549024 bytes (96.0%27451392/28549024 bytes (96.2%27516928/28549024 bytes (96.4%27566080/28549024 bytes (96.6%27615232/28549024 bytes (96.7%27664384/28549024 bytes (96.9%27713536/28549024 bytes (97.1%27762688/28549024 bytes (97.2%27811840/28549024 bytes (97.4%27844608/28549024 bytes (97.5%27942912/28549024 bytes (97.9%27992064/28549024 bytes (98.0%28024832/28549024 bytes (98.2%28073984/28549024 bytes (98.3%28123136/28549024 bytes (98.5%28172288/28549024 bytes (98.7%28221440/28549024 bytes (98.9%28270592/28549024 bytes (99.0%28286976/28549024 bytes (99.1%28352512/28549024 bytes (99.3%28385280/28549024 bytes (99.4%28434432/28549024 bytes (99.6%28483584/28549024 bytes (99.8%28516352/28549024 bytes (99.9%28549024/28549024 bytes (100.0%)\n",
      "  Done\n",
      "File saved as /root/.imageio/ffmpeg/ffmpeg.linux64.\n",
      "[MoviePy] >>>> Building video /src/test_videos_output/solidWhiteRight.mp4\n",
      "[MoviePy] Writing video /src/test_videos_output/solidWhiteRight.mp4\n"
     ]
    },
    {
     "name": "stderr",
     "output_type": "stream",
     "text": [
      "100%|█████████▉| 221/222 [00:06<00:00, 36.07it/s]\n"
     ]
    },
    {
     "name": "stdout",
     "output_type": "stream",
     "text": [
      "[MoviePy] Done.\n",
      "[MoviePy] >>>> Video ready: /src/test_videos_output/solidWhiteRight.mp4 \n",
      "\n",
      "CPU times: user 2.28 s, sys: 300 ms, total: 2.58 s\n",
      "Wall time: 7.03 s\n",
      "[MoviePy] >>>> Building video /src/test_videos_output/challenge.mp4\n",
      "[MoviePy] Writing video /src/test_videos_output/challenge.mp4\n"
     ]
    },
    {
     "name": "stderr",
     "output_type": "stream",
     "text": [
      "100%|██████████| 251/251 [00:15<00:00, 15.24it/s]\n"
     ]
    },
    {
     "name": "stdout",
     "output_type": "stream",
     "text": [
      "[MoviePy] Done.\n",
      "[MoviePy] >>>> Video ready: /src/test_videos_output/challenge.mp4 \n",
      "\n",
      "CPU times: user 5.46 s, sys: 554 ms, total: 6.01 s\n",
      "Wall time: 17 s\n",
      "[MoviePy] >>>> Building video /src/test_videos_output/solidYellowLeft.mp4\n",
      "[MoviePy] Writing video /src/test_videos_output/solidYellowLeft.mp4\n"
     ]
    },
    {
     "name": "stderr",
     "output_type": "stream",
     "text": [
      "100%|█████████▉| 681/682 [00:21<00:00, 31.37it/s]\n"
     ]
    },
    {
     "name": "stdout",
     "output_type": "stream",
     "text": [
      "[MoviePy] Done.\n",
      "[MoviePy] >>>> Video ready: /src/test_videos_output/solidYellowLeft.mp4 \n",
      "\n",
      "CPU times: user 7.76 s, sys: 891 ms, total: 8.65 s\n",
      "Wall time: 22.5 s\n"
     ]
    }
   ],
   "source": [
    "# Import everything needed to edit/save/watch video clips\n",
    "from moviepy.editor import VideoFileClip\n",
    "from IPython.display import HTML\n",
    "\n",
    "filenames = os.listdir(\"test_videos\")\n",
    "for filename in filenames:\n",
    "    pathname = os.path.join(os.getcwd(), \"test_videos\", filename)\n",
    "    output_pathname = os.path.join(os.getcwd(), \"test_videos_output\", filename)\n",
    "    clip = VideoFileClip(pathname)\n",
    "    output_clip = clip.fl_image(process_image)\n",
    "    %time output_clip.write_videofile(output_pathname, audio=False)"
   ]
  },
  {
   "cell_type": "code",
   "execution_count": null,
   "metadata": {},
   "outputs": [],
   "source": []
  },
  {
   "cell_type": "code",
   "execution_count": null,
   "metadata": {},
   "outputs": [],
   "source": []
  },
  {
   "cell_type": "code",
   "execution_count": null,
   "metadata": {},
   "outputs": [],
   "source": []
  }
 ],
 "metadata": {
  "kernelspec": {
   "display_name": "Python 3",
   "language": "python",
   "name": "python3"
  },
  "language_info": {
   "codemirror_mode": {
    "name": "ipython",
    "version": 3
   },
   "file_extension": ".py",
   "mimetype": "text/x-python",
   "name": "python",
   "nbconvert_exporter": "python",
   "pygments_lexer": "ipython3",
   "version": "3.5.2"
  },
  "widgets": {
   "state": {},
   "version": "1.1.2"
  }
 },
 "nbformat": 4,
 "nbformat_minor": 2
}
